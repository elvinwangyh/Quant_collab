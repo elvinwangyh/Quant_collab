{
 "cells": [
  {
   "cell_type": "markdown",
   "metadata": {},
   "source": [
    "# Monetary Transmission Mechanism"
   ]
  },
  {
   "cell_type": "markdown",
   "metadata": {},
   "source": [
    "## Introduction\n",
    "https://medium.com/@yuhui_w/monetary-transmission-mechanism-vector-autoregression-var-approach-d4dd87cfe435  \n",
    "   \n",
    "\n",
    "[FRED-MD data](https://research.stlouisfed.org/econ/mccracken/fred-databases/)  \n",
    "[FRED-MD Paper & Columns](https://s3.amazonaws.com/real.stlouisfed.org/wp/2015/2015-012.pdf)"
   ]
  },
  {
   "cell_type": "code",
   "execution_count": 1,
   "metadata": {},
   "outputs": [],
   "source": [
    "# data\n",
    "import pandas as pd\n",
    "import pandas_profiling\n",
    "import numpy as np\n",
    "import datetime as dt\n",
    "\n",
    "import scipy.stats as stats\n",
    "import statsmodels.api as sm\n",
    "import statsmodels.tsa.api as tsa\n",
    "from statsmodels.tsa.api import VAR, VARMAX\n",
    "\n",
    "import matplotlib.pyplot as plt\n",
    "%matplotlib inline\n",
    "import seaborn as sns\n",
    "\n",
    "import pandas_datareader.data as web\n",
    "import yfinance as yf"
   ]
  },
  {
   "cell_type": "code",
   "execution_count": 2,
   "metadata": {},
   "outputs": [
    {
     "data": {
      "text/plain": [
       "Date\n",
       "2012-07-01    24.250000\n",
       "2012-08-01    23.389999\n",
       "2012-09-01    22.360001\n",
       "2012-10-01    22.750000\n",
       "2012-11-01    28.850000\n",
       "Freq: MS, Name: Close, dtype: float64"
      ]
     },
     "execution_count": 2,
     "metadata": {},
     "output_type": "execute_result"
    }
   ],
   "source": [
    "# download CSI300 data from yahoo finance\n",
    "ticker = '3188.hk'\n",
    "start = str(dt.datetime(2010, 1, 1))\n",
    "end = str(dt.datetime.now())\n",
    "ticker = web.DataReader(ticker, 'yahoo', start, end).Close\n",
    "\n",
    "# resample to monthly\n",
    "ticker = ticker.resample('MS').first()\n",
    "ticker.head()\n"
   ]
  },
  {
   "cell_type": "code",
   "execution_count": 5,
   "metadata": {},
   "outputs": [
    {
     "data": {
      "text/plain": [
       "Date\n",
       "2009-12-01    7.7537\n",
       "2010-01-01    7.7529\n",
       "2010-02-01    7.7676\n",
       "2010-03-01    7.7638\n",
       "2010-04-01    7.7677\n",
       "Freq: MS, Name: Close, dtype: float64"
      ]
     },
     "execution_count": 5,
     "metadata": {},
     "output_type": "execute_result"
    }
   ],
   "source": [
    "# download currency data hkdusd\n",
    "fx = 'HKD=X'\n",
    "fx = web.DataReader(fx, 'yahoo', start, end).Close\n",
    "# resample to monthly\n",
    "fx = fx.resample('MS').first()\n",
    "fx.head()"
   ]
  },
  {
   "cell_type": "code",
   "execution_count": 27,
   "metadata": {},
   "outputs": [
    {
     "data": {
      "text/html": [
       "<div>\n",
       "<style scoped>\n",
       "    .dataframe tbody tr th:only-of-type {\n",
       "        vertical-align: middle;\n",
       "    }\n",
       "\n",
       "    .dataframe tbody tr th {\n",
       "        vertical-align: top;\n",
       "    }\n",
       "\n",
       "    .dataframe thead th {\n",
       "        text-align: right;\n",
       "    }\n",
       "</style>\n",
       "<table border=\"1\" class=\"dataframe\">\n",
       "  <thead>\n",
       "    <tr style=\"text-align: right;\">\n",
       "      <th></th>\n",
       "      <th>Close</th>\n",
       "      <th>Close</th>\n",
       "    </tr>\n",
       "    <tr>\n",
       "      <th>Date</th>\n",
       "      <th></th>\n",
       "      <th></th>\n",
       "    </tr>\n",
       "  </thead>\n",
       "  <tbody>\n",
       "    <tr>\n",
       "      <th>2012-07-01</th>\n",
       "      <td>24.250000</td>\n",
       "      <td>7.7572</td>\n",
       "    </tr>\n",
       "    <tr>\n",
       "      <th>2012-08-01</th>\n",
       "      <td>23.389999</td>\n",
       "      <td>7.7550</td>\n",
       "    </tr>\n",
       "    <tr>\n",
       "      <th>2012-09-01</th>\n",
       "      <td>22.360001</td>\n",
       "      <td>7.7559</td>\n",
       "    </tr>\n",
       "    <tr>\n",
       "      <th>2012-10-01</th>\n",
       "      <td>22.750000</td>\n",
       "      <td>7.7542</td>\n",
       "    </tr>\n",
       "    <tr>\n",
       "      <th>2012-11-01</th>\n",
       "      <td>28.850000</td>\n",
       "      <td>7.7499</td>\n",
       "    </tr>\n",
       "  </tbody>\n",
       "</table>\n",
       "</div>"
      ],
      "text/plain": [
       "                Close   Close\n",
       "Date                         \n",
       "2012-07-01  24.250000  7.7572\n",
       "2012-08-01  23.389999  7.7550\n",
       "2012-09-01  22.360001  7.7559\n",
       "2012-10-01  22.750000  7.7542\n",
       "2012-11-01  28.850000  7.7499"
      ]
     },
     "execution_count": 27,
     "metadata": {},
     "output_type": "execute_result"
    }
   ],
   "source": [
    "trade = pd.concat([ticker, fx], axis=1)\n",
    "trade = trade.dropna()\n",
    "trade.head()"
   ]
  },
  {
   "cell_type": "code",
   "execution_count": 28,
   "metadata": {},
   "outputs": [
    {
     "data": {
      "text/html": [
       "<div>\n",
       "<style scoped>\n",
       "    .dataframe tbody tr th:only-of-type {\n",
       "        vertical-align: middle;\n",
       "    }\n",
       "\n",
       "    .dataframe tbody tr th {\n",
       "        vertical-align: top;\n",
       "    }\n",
       "\n",
       "    .dataframe thead th {\n",
       "        text-align: right;\n",
       "    }\n",
       "</style>\n",
       "<table border=\"1\" class=\"dataframe\">\n",
       "  <thead>\n",
       "    <tr style=\"text-align: right;\">\n",
       "      <th></th>\n",
       "      <th>RPI</th>\n",
       "      <th>W875RX1</th>\n",
       "      <th>DPCERA3M086SBEA</th>\n",
       "      <th>CMRMTSPLx</th>\n",
       "      <th>RETAILx</th>\n",
       "      <th>INDPRO</th>\n",
       "      <th>IPFPNSS</th>\n",
       "      <th>IPFINAL</th>\n",
       "      <th>IPCONGD</th>\n",
       "      <th>IPDCONGD</th>\n",
       "      <th>...</th>\n",
       "      <th>DNDGRG3M086SBEA</th>\n",
       "      <th>DSERRG3M086SBEA</th>\n",
       "      <th>CES0600000008</th>\n",
       "      <th>CES2000000008</th>\n",
       "      <th>CES3000000008</th>\n",
       "      <th>UMCSENTx</th>\n",
       "      <th>DTCOLNVHFNM</th>\n",
       "      <th>DTCTHFNM</th>\n",
       "      <th>INVEST</th>\n",
       "      <th>VIXCLSx</th>\n",
       "    </tr>\n",
       "    <tr>\n",
       "      <th>Date</th>\n",
       "      <th></th>\n",
       "      <th></th>\n",
       "      <th></th>\n",
       "      <th></th>\n",
       "      <th></th>\n",
       "      <th></th>\n",
       "      <th></th>\n",
       "      <th></th>\n",
       "      <th></th>\n",
       "      <th></th>\n",
       "      <th></th>\n",
       "      <th></th>\n",
       "      <th></th>\n",
       "      <th></th>\n",
       "      <th></th>\n",
       "      <th></th>\n",
       "      <th></th>\n",
       "      <th></th>\n",
       "      <th></th>\n",
       "      <th></th>\n",
       "      <th></th>\n",
       "    </tr>\n",
       "  </thead>\n",
       "  <tbody>\n",
       "    <tr>\n",
       "      <th>1959-01-01</th>\n",
       "      <td>2442.158</td>\n",
       "      <td>2293.2</td>\n",
       "      <td>17.272</td>\n",
       "      <td>292266.4261</td>\n",
       "      <td>18235.77392</td>\n",
       "      <td>22.0733</td>\n",
       "      <td>23.4027</td>\n",
       "      <td>22.2858</td>\n",
       "      <td>31.5688</td>\n",
       "      <td>18.6601</td>\n",
       "      <td>...</td>\n",
       "      <td>17.791</td>\n",
       "      <td>11.326</td>\n",
       "      <td>2.13</td>\n",
       "      <td>2.45</td>\n",
       "      <td>2.04</td>\n",
       "      <td>NaN</td>\n",
       "      <td>6476.0</td>\n",
       "      <td>12298.0</td>\n",
       "      <td>84.2043</td>\n",
       "      <td>NaN</td>\n",
       "    </tr>\n",
       "    <tr>\n",
       "      <th>1959-02-01</th>\n",
       "      <td>2451.778</td>\n",
       "      <td>2301.5</td>\n",
       "      <td>17.452</td>\n",
       "      <td>294424.7425</td>\n",
       "      <td>18369.56308</td>\n",
       "      <td>22.5056</td>\n",
       "      <td>23.7185</td>\n",
       "      <td>22.4788</td>\n",
       "      <td>31.8004</td>\n",
       "      <td>18.7580</td>\n",
       "      <td>...</td>\n",
       "      <td>17.798</td>\n",
       "      <td>11.343</td>\n",
       "      <td>2.14</td>\n",
       "      <td>2.46</td>\n",
       "      <td>2.05</td>\n",
       "      <td>NaN</td>\n",
       "      <td>6476.0</td>\n",
       "      <td>12298.0</td>\n",
       "      <td>83.5280</td>\n",
       "      <td>NaN</td>\n",
       "    </tr>\n",
       "    <tr>\n",
       "      <th>1959-03-01</th>\n",
       "      <td>2467.594</td>\n",
       "      <td>2318.5</td>\n",
       "      <td>17.617</td>\n",
       "      <td>293418.6704</td>\n",
       "      <td>18523.05762</td>\n",
       "      <td>22.8298</td>\n",
       "      <td>23.8621</td>\n",
       "      <td>22.5892</td>\n",
       "      <td>31.8004</td>\n",
       "      <td>19.1254</td>\n",
       "      <td>...</td>\n",
       "      <td>17.785</td>\n",
       "      <td>11.363</td>\n",
       "      <td>2.15</td>\n",
       "      <td>2.45</td>\n",
       "      <td>2.07</td>\n",
       "      <td>NaN</td>\n",
       "      <td>6508.0</td>\n",
       "      <td>12349.0</td>\n",
       "      <td>81.6405</td>\n",
       "      <td>NaN</td>\n",
       "    </tr>\n",
       "    <tr>\n",
       "      <th>1959-04-01</th>\n",
       "      <td>2483.671</td>\n",
       "      <td>2334.9</td>\n",
       "      <td>17.553</td>\n",
       "      <td>299322.8039</td>\n",
       "      <td>18534.46600</td>\n",
       "      <td>23.3161</td>\n",
       "      <td>24.2067</td>\n",
       "      <td>22.9201</td>\n",
       "      <td>32.3021</td>\n",
       "      <td>19.2478</td>\n",
       "      <td>...</td>\n",
       "      <td>17.796</td>\n",
       "      <td>11.403</td>\n",
       "      <td>2.16</td>\n",
       "      <td>2.47</td>\n",
       "      <td>2.08</td>\n",
       "      <td>NaN</td>\n",
       "      <td>6620.0</td>\n",
       "      <td>12484.0</td>\n",
       "      <td>81.8099</td>\n",
       "      <td>NaN</td>\n",
       "    </tr>\n",
       "    <tr>\n",
       "      <th>1959-05-01</th>\n",
       "      <td>2498.026</td>\n",
       "      <td>2350.4</td>\n",
       "      <td>17.765</td>\n",
       "      <td>301364.3249</td>\n",
       "      <td>18679.66354</td>\n",
       "      <td>23.6673</td>\n",
       "      <td>24.4077</td>\n",
       "      <td>23.1408</td>\n",
       "      <td>32.4565</td>\n",
       "      <td>19.6396</td>\n",
       "      <td>...</td>\n",
       "      <td>17.777</td>\n",
       "      <td>11.421</td>\n",
       "      <td>2.17</td>\n",
       "      <td>2.48</td>\n",
       "      <td>2.08</td>\n",
       "      <td>95.3</td>\n",
       "      <td>6753.0</td>\n",
       "      <td>12646.0</td>\n",
       "      <td>80.7315</td>\n",
       "      <td>NaN</td>\n",
       "    </tr>\n",
       "  </tbody>\n",
       "</table>\n",
       "<p>5 rows × 127 columns</p>\n",
       "</div>"
      ],
      "text/plain": [
       "                 RPI  W875RX1  DPCERA3M086SBEA    CMRMTSPLx      RETAILx  \\\n",
       "Date                                                                       \n",
       "1959-01-01  2442.158   2293.2           17.272  292266.4261  18235.77392   \n",
       "1959-02-01  2451.778   2301.5           17.452  294424.7425  18369.56308   \n",
       "1959-03-01  2467.594   2318.5           17.617  293418.6704  18523.05762   \n",
       "1959-04-01  2483.671   2334.9           17.553  299322.8039  18534.46600   \n",
       "1959-05-01  2498.026   2350.4           17.765  301364.3249  18679.66354   \n",
       "\n",
       "             INDPRO  IPFPNSS  IPFINAL  IPCONGD  IPDCONGD  ...  \\\n",
       "Date                                                      ...   \n",
       "1959-01-01  22.0733  23.4027  22.2858  31.5688   18.6601  ...   \n",
       "1959-02-01  22.5056  23.7185  22.4788  31.8004   18.7580  ...   \n",
       "1959-03-01  22.8298  23.8621  22.5892  31.8004   19.1254  ...   \n",
       "1959-04-01  23.3161  24.2067  22.9201  32.3021   19.2478  ...   \n",
       "1959-05-01  23.6673  24.4077  23.1408  32.4565   19.6396  ...   \n",
       "\n",
       "            DNDGRG3M086SBEA  DSERRG3M086SBEA  CES0600000008  CES2000000008  \\\n",
       "Date                                                                         \n",
       "1959-01-01           17.791           11.326           2.13           2.45   \n",
       "1959-02-01           17.798           11.343           2.14           2.46   \n",
       "1959-03-01           17.785           11.363           2.15           2.45   \n",
       "1959-04-01           17.796           11.403           2.16           2.47   \n",
       "1959-05-01           17.777           11.421           2.17           2.48   \n",
       "\n",
       "            CES3000000008  UMCSENTx  DTCOLNVHFNM  DTCTHFNM   INVEST  VIXCLSx  \n",
       "Date                                                                          \n",
       "1959-01-01           2.04       NaN       6476.0   12298.0  84.2043      NaN  \n",
       "1959-02-01           2.05       NaN       6476.0   12298.0  83.5280      NaN  \n",
       "1959-03-01           2.07       NaN       6508.0   12349.0  81.6405      NaN  \n",
       "1959-04-01           2.08       NaN       6620.0   12484.0  81.8099      NaN  \n",
       "1959-05-01           2.08      95.3       6753.0   12646.0  80.7315      NaN  \n",
       "\n",
       "[5 rows x 127 columns]"
      ]
     },
     "execution_count": 28,
     "metadata": {},
     "output_type": "execute_result"
    }
   ],
   "source": [
    "data = pd.read_csv('current.csv')\n",
    "\n",
    "\n",
    "# format date to year-month-day\n",
    "data['sasdate'] = pd.to_datetime(data['sasdate'],errors ='coerce')\n",
    "data['Date'] = data['sasdate'].dt.strftime('%Y-%m-%d')\n",
    "data.set_index('Date', inplace = True)\n",
    "\n",
    "data = data.iloc[1:,1:]\n",
    "data.head()"
   ]
  },
  {
   "cell_type": "code",
   "execution_count": 31,
   "metadata": {},
   "outputs": [
    {
     "name": "stderr",
     "output_type": "stream",
     "text": [
      "/opt/anaconda3/lib/python3.8/site-packages/pandas/core/indexes/base.py:2618: RuntimeWarning: '<' not supported between instances of 'Timestamp' and 'float', sort order is undefined for incomparable objects\n",
      "  return Index.union(this, other, sort=sort).astype(object, copy=False)\n"
     ]
    },
    {
     "data": {
      "text/html": [
       "<div>\n",
       "<style scoped>\n",
       "    .dataframe tbody tr th:only-of-type {\n",
       "        vertical-align: middle;\n",
       "    }\n",
       "\n",
       "    .dataframe tbody tr th {\n",
       "        vertical-align: top;\n",
       "    }\n",
       "\n",
       "    .dataframe thead th {\n",
       "        text-align: right;\n",
       "    }\n",
       "</style>\n",
       "<table border=\"1\" class=\"dataframe\">\n",
       "  <thead>\n",
       "    <tr style=\"text-align: right;\">\n",
       "      <th></th>\n",
       "      <th>RPI</th>\n",
       "      <th>W875RX1</th>\n",
       "      <th>DPCERA3M086SBEA</th>\n",
       "      <th>CMRMTSPLx</th>\n",
       "      <th>RETAILx</th>\n",
       "      <th>INDPRO</th>\n",
       "      <th>IPFPNSS</th>\n",
       "      <th>IPFINAL</th>\n",
       "      <th>IPCONGD</th>\n",
       "      <th>IPDCONGD</th>\n",
       "      <th>...</th>\n",
       "      <th>CES3000000008</th>\n",
       "      <th>UMCSENTx</th>\n",
       "      <th>DTCOLNVHFNM</th>\n",
       "      <th>DTCTHFNM</th>\n",
       "      <th>INVEST</th>\n",
       "      <th>VIXCLSx</th>\n",
       "      <th>Close</th>\n",
       "      <th>Close</th>\n",
       "      <th>Close</th>\n",
       "      <th>Close</th>\n",
       "    </tr>\n",
       "    <tr>\n",
       "      <th>Date</th>\n",
       "      <th></th>\n",
       "      <th></th>\n",
       "      <th></th>\n",
       "      <th></th>\n",
       "      <th></th>\n",
       "      <th></th>\n",
       "      <th></th>\n",
       "      <th></th>\n",
       "      <th></th>\n",
       "      <th></th>\n",
       "      <th></th>\n",
       "      <th></th>\n",
       "      <th></th>\n",
       "      <th></th>\n",
       "      <th></th>\n",
       "      <th></th>\n",
       "      <th></th>\n",
       "      <th></th>\n",
       "      <th></th>\n",
       "      <th></th>\n",
       "      <th></th>\n",
       "    </tr>\n",
       "  </thead>\n",
       "  <tbody>\n",
       "  </tbody>\n",
       "</table>\n",
       "<p>0 rows × 131 columns</p>\n",
       "</div>"
      ],
      "text/plain": [
       "Empty DataFrame\n",
       "Columns: [RPI, W875RX1, DPCERA3M086SBEA, CMRMTSPLx, RETAILx, INDPRO, IPFPNSS, IPFINAL, IPCONGD, IPDCONGD, IPNCONGD, IPBUSEQ, IPMAT, IPDMAT, IPNMAT, IPMANSICS, IPB51222S, IPFUELS, CUMFNS, HWI, HWIURATIO, CLF16OV, CE16OV, UNRATE, UEMPMEAN, UEMPLT5, UEMP5TO14, UEMP15OV, UEMP15T26, UEMP27OV, CLAIMSx, PAYEMS, USGOOD, CES1021000001, USCONS, MANEMP, DMANEMP, NDMANEMP, SRVPRD, USTPU, USWTRADE, USTRADE, USFIRE, USGOVT, CES0600000007, AWOTMAN, AWHMAN, HOUST, HOUSTNE, HOUSTMW, HOUSTS, HOUSTW, PERMIT, PERMITNE, PERMITMW, PERMITS, PERMITW, ACOGNO, AMDMNOx, ANDENOx, AMDMUOx, BUSINVx, ISRATIOx, M1SL, M2SL, M2REAL, BOGMBASE, TOTRESNS, NONBORRES, BUSLOANS, REALLN, NONREVSL, CONSPI, S&P 500, S&P: indust, S&P div yield, S&P PE ratio, FEDFUNDS, CP3Mx, TB3MS, TB6MS, GS1, GS5, GS10, AAA, BAA, COMPAPFFx, TB3SMFFM, TB6SMFFM, T1YFFM, T5YFFM, T10YFFM, AAAFFM, BAAFFM, TWEXAFEGSMTHx, EXSZUSx, EXJPUSx, EXUSUKx, EXCAUSx, WPSFD49207, ...]\n",
       "Index: []\n",
       "\n",
       "[0 rows x 131 columns]"
      ]
     },
     "execution_count": 31,
     "metadata": {},
     "output_type": "execute_result"
    }
   ],
   "source": [
    "# merge ticker n fx to data \n",
    "data = pd.concat([data, trade], axis=1)\n",
    "data = data.dropna()\n",
    "data.head()"
   ]
  },
  {
   "cell_type": "code",
   "execution_count": null,
   "metadata": {},
   "outputs": [],
   "source": [
    "# check for missing values\n",
    "print(data.isnull().sum().sort_values(ascending=False))\n",
    "data = data.iloc[:-1,:]"
   ]
  },
  {
   "cell_type": "code",
   "execution_count": null,
   "metadata": {},
   "outputs": [],
   "source": [
    "# ffill null values and drop column with the most null values\n",
    "data = data.fillna(method='ffill')\n",
    "to_drop = data.columns[data.isnull().sum() != 0].sort_values(ascending=False)\n",
    "print(to_drop)"
   ]
  },
  {
   "cell_type": "code",
   "execution_count": null,
   "metadata": {},
   "outputs": [],
   "source": [
    "# drop columns in to_drop\n",
    "# data = data.drop(to_drop, axis=1)\n",
    "# data.head()\n",
    "data = data.dropna(axis=0)"
   ]
  },
  {
   "cell_type": "code",
   "execution_count": null,
   "metadata": {},
   "outputs": [],
   "source": [
    "data['fx']"
   ]
  },
  {
   "cell_type": "markdown",
   "metadata": {},
   "source": [
    "## Feature Selection \n"
   ]
  },
  {
   "cell_type": "code",
   "execution_count": null,
   "metadata": {},
   "outputs": [],
   "source": [
    "# target variable\n",
    "target_var = 'FEDFUNDS'\n",
    "\n",
    "from sklearn.feature_selection import SelectKBest, f_regression\n",
    "X_train, y_train = data.loc[:, data.columns != target_var], data[target_var]\n",
    "\n",
    "selector = SelectKBest(f_regression, k=15)\n",
    "selector.fit(X_train, y_train)\n",
    "scores = -np.log(selector.pvalues_)\n",
    "\n",
    "\n",
    "X_indices = np.arange(X_train.shape[-1])\n",
    "plt.figure(1)\n",
    "plt.clf()\n",
    "plt.bar(x = X_indices, height = scores, width=0.2)\n",
    "plt.title(\"Feature univariate score\")\n",
    "plt.xlabel(\"Feature number\")\n",
    "plt.ylabel(r\"Univariate score ($-Log(p_{value})$)\")\n",
    "plt.show()"
   ]
  },
  {
   "cell_type": "code",
   "execution_count": null,
   "metadata": {},
   "outputs": [],
   "source": [
    "score_df = pd.DataFrame([data.columns, scores]).T\n",
    "score_df.columns = ['Feature', 'Score']\n",
    "score_df = score_df.sort_values(by='Score', ascending=False)\n",
    "score_df.head(20)"
   ]
  },
  {
   "cell_type": "markdown",
   "metadata": {},
   "source": [
    "## Working only with the varibales of interest"
   ]
  },
  {
   "cell_type": "code",
   "execution_count": null,
   "metadata": {},
   "outputs": [],
   "source": [
    "# get the relevant columns\n",
    "endo = ['FEDFUNDS', 'INDPRO', 'TB3MS', 'PAYEMS', 'HOUST', 'DPCERA3M086SBEA', 'CPIAUCSL', 'M2REAL', 'BUSLOANS', 'S&P 500', 'S&P PE ratio', 'fx', 'asset']\n",
    "\n",
    "data = data[endo]"
   ]
  },
  {
   "cell_type": "markdown",
   "metadata": {},
   "source": [
    "### Cointegration\n"
   ]
  },
  {
   "cell_type": "code",
   "execution_count": null,
   "metadata": {},
   "outputs": [],
   "source": [
    "# function to calculate the cointegration matrix\n",
    "# organised pvalues into matrix\n",
    "def coint_matrix(data):\n",
    "    coint_matrix = pd.DataFrame(index=data.columns, columns=data.columns)\n",
    "    for i in data.columns:\n",
    "        for j in data.columns:\n",
    "            if i != j:\n",
    "                x = data[i]\n",
    "                y = data[j]\n",
    "                result = sm.tsa.stattools.coint(x, y)\n",
    "                coint_matrix.loc[i,j] = result[1]\n",
    "    # fill nan will 0\n",
    "    coint_matrix = coint_matrix.fillna(0)\n",
    "    return coint_matrix"
   ]
  },
  {
   "cell_type": "code",
   "execution_count": null,
   "metadata": {},
   "outputs": [],
   "source": [
    "coint = coint_matrix(data)\n",
    "\n",
    "# plot a heatmap of the cointegration matrix\n",
    "plt.subplots(figsize=(15,15))\n",
    "sns.heatmap(coint, annot=True)\n"
   ]
  },
  {
   "cell_type": "markdown",
   "metadata": {},
   "source": [
    "Statsmdoels uses augmented Engle-Granger test for cointegration.    \n",
    "   \n",
    "The Null hypothesis is that there is no cointegration,   \n",
    "the alternative hypothesis is that there is cointegrating relationship.   \n",
    "If the pvalue is small, below a critical size, then we can reject the hypothesis that there is no cointegrating relationship.    \n",
    "    \n",
    "System-wide cointegration does not imply pairwise cointegration, although pairwise cointegration does imply system-wide cointegration https://stats.stackexchange.com/questions/171066/cointegration-between-more-than-two-variables    \n",
    "   \n",
    "From the above cointegration p-value heatmap, we see that new private housing and PE ratio are not cointegrated with the other series. As a result we are dropping these two series from our model.    \n",
    "We are retaining Fed fund rate as it is the key pathway to manage monetary policy."
   ]
  },
  {
   "cell_type": "code",
   "execution_count": null,
   "metadata": {},
   "outputs": [],
   "source": [
    "# drop the columns with pvalue > 0.05\n",
    "data = data.drop(['HOUST', 'S&P PE ratio'], axis=1)"
   ]
  },
  {
   "cell_type": "markdown",
   "metadata": {},
   "source": [
    "### Transformation & Stationarity"
   ]
  },
  {
   "cell_type": "code",
   "execution_count": null,
   "metadata": {},
   "outputs": [],
   "source": [
    "# Transformation required\n",
    "T2 = ['FEDFUNDS', 'TB3MS']\n",
    "T5 = ['INDPRO', 'PAYEMS', 'DPCERA3M086SBEA', 'M2REAL', 'S&P 500']\n",
    "T6 = ['CPIAUCSL', 'BUSLOANS']\n",
    "\n",
    "data[T2] = data[T2].diff()\n",
    "data[T5] = np.log(data[T5]).diff()\n",
    "data[T6] = np.log(data[T6]).diff()**2\n",
    "\n",
    "data.dropna(inplace=True)\n",
    "data.head()"
   ]
  },
  {
   "cell_type": "code",
   "execution_count": null,
   "metadata": {},
   "outputs": [],
   "source": [
    "# check for stationarity\n",
    "data.plot(figsize=(20,10))"
   ]
  },
  {
   "cell_type": "code",
   "execution_count": null,
   "metadata": {},
   "outputs": [],
   "source": [
    "# acf & pacf\n",
    "for column in data.columns:\n",
    "    print(column)\n",
    "    fig, ax = plt.subplots(1,2,figsize=(10,5))\n",
    "    sm.graphics.tsa.plot_acf(data[column], lags=20, ax=ax[0])\n",
    "    sm.graphics.tsa.plot_pacf(data[column], lags=12, alpha=0.05, ax=ax[1])\n",
    "    plt.show()\n"
   ]
  },
  {
   "cell_type": "code",
   "execution_count": null,
   "metadata": {},
   "outputs": [],
   "source": [
    "# stationarity test\n",
    "output = []\n",
    "for column in data.columns:\n",
    "    pval = tsa.adfuller(data[column], regression='c', autolag='AIC')[1]\n",
    "    output.append(pval)\n",
    "output = pd.DataFrame(output).T\n",
    "output.columns = data.columns\n",
    "odd = output.columns[output.max() >= 0.05]\n",
    "output[odd]"
   ]
  },
  {
   "cell_type": "code",
   "execution_count": null,
   "metadata": {},
   "outputs": [],
   "source": [
    "data.plot()"
   ]
  },
  {
   "cell_type": "markdown",
   "metadata": {},
   "source": [
    "# VAR model \n"
   ]
  },
  {
   "cell_type": "code",
   "execution_count": null,
   "metadata": {
    "scrolled": true,
    "tags": []
   },
   "outputs": [],
   "source": [
    "maxlag = 12\n",
    "VAR_model = VAR(data) \n",
    "VAR_model.select_order(maxlag)\n",
    "results = VAR_model.fit(maxlags=maxlag, ic='aic')\n",
    "results.summary()"
   ]
  },
  {
   "cell_type": "code",
   "execution_count": null,
   "metadata": {},
   "outputs": [],
   "source": [
    "lag_order = results.k_ar\n",
    "lag_order"
   ]
  },
  {
   "cell_type": "code",
   "execution_count": null,
   "metadata": {},
   "outputs": [],
   "source": [
    "irf = results.irf(maxlag)\n",
    "irf.plot(orth=False, figsize=(50, 50))"
   ]
  },
  {
   "cell_type": "code",
   "execution_count": null,
   "metadata": {},
   "outputs": [],
   "source": [
    "irf.plot_cum_effects(impulse = 'FEDFUNDS', orth=False, figsize=(7, 30))"
   ]
  },
  {
   "cell_type": "code",
   "execution_count": null,
   "metadata": {},
   "outputs": [],
   "source": [
    "irf.plot_cum_effects(response = 'CPIAUCSL', orth=False, figsize=(7, 30))"
   ]
  },
  {
   "cell_type": "code",
   "execution_count": null,
   "metadata": {},
   "outputs": [],
   "source": [
    "# forecast error varince decomposition\n",
    "fevd = results.fevd(lag_order)\n",
    "\n",
    "fevd.summary()"
   ]
  },
  {
   "cell_type": "code",
   "execution_count": null,
   "metadata": {},
   "outputs": [],
   "source": []
  }
 ],
 "metadata": {
  "interpreter": {
   "hash": "40d3a090f54c6569ab1632332b64b2c03c39dcf918b08424e98f38b5ae0af88f"
  },
  "kernelspec": {
   "display_name": "Python 3.8.8 ('base')",
   "language": "python",
   "name": "python3"
  },
  "language_info": {
   "codemirror_mode": {
    "name": "ipython",
    "version": 3
   },
   "file_extension": ".py",
   "mimetype": "text/x-python",
   "name": "python",
   "nbconvert_exporter": "python",
   "pygments_lexer": "ipython3",
   "version": "3.8.8"
  }
 },
 "nbformat": 4,
 "nbformat_minor": 4
}
